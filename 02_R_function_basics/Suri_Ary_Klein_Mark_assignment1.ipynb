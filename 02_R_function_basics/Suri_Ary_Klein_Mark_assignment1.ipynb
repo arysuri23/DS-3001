{
 "cells": [
  {
   "cell_type": "markdown",
   "metadata": {},
   "source": [
    "### Assignment 1 Python Review Functions\n"
   ]
  },
  {
   "cell_type": "code",
   "execution_count": 2,
   "metadata": {},
   "outputs": [
    {
     "data": {
      "text/plain": [
       "'/Users/arysuri/Downloads/DS-3001'"
      ]
     },
     "execution_count": 2,
     "metadata": {},
     "output_type": "execute_result"
    }
   ],
   "source": [
    "import pandas as pd\n",
    "import os\n",
    "os.getcwd()\n",
    "os.chdir(\"/Users/arysuri/Downloads/DS-3001\")\n",
    "os.getcwd()\n"
   ]
  },
  {
   "cell_type": "markdown",
   "metadata": {},
   "source": [
    "### Data Set 1: NFL 2008 Field Goal Attempt Data"
   ]
  },
  {
   "cell_type": "markdown",
   "metadata": {},
   "source": [
    "### Question 1: Which NFL Kicker made the highest percentage of their field goal attempts in the 2008 Season?"
   ]
  },
  {
   "cell_type": "markdown",
   "metadata": {},
   "source": [
    "### Psuedocode:\n",
    "- Group by Kicker Name\n",
    "- Count total kicks made\n",
    "- Count total kicks attempted\n",
    "- Calculate conversion rate\n",
    "- Add conversion rate to new table \n",
    "- Arrange in descending order based on conversion rate\n"
   ]
  },
  {
   "cell_type": "code",
   "execution_count": 3,
   "metadata": {},
   "outputs": [
    {
     "name": "stdout",
     "output_type": "stream",
     "text": [
      "<class 'pandas.core.frame.DataFrame'>\n",
      "RangeIndex: 1039 entries, 0 to 1038\n",
      "Data columns (total 23 columns):\n",
      " #   Column    Non-Null Count  Dtype  \n",
      "---  ------    --------------  -----  \n",
      " 0   GameDate  1039 non-null   int64  \n",
      " 1   AwayTeam  1039 non-null   object \n",
      " 2   HomeTeam  1039 non-null   object \n",
      " 3   qtr       1039 non-null   int64  \n",
      " 4   min       1039 non-null   int64  \n",
      " 5   sec       1039 non-null   int64  \n",
      " 6   kickteam  1039 non-null   object \n",
      " 7   def       1039 non-null   object \n",
      " 8   down      1037 non-null   float64\n",
      " 9   togo      1037 non-null   float64\n",
      " 10  kicker    1039 non-null   int64  \n",
      " 11  ydline    1039 non-null   int64  \n",
      " 12  name      1039 non-null   object \n",
      " 13  distance  1039 non-null   int64  \n",
      " 14  homekick  1039 non-null   int64  \n",
      " 15  kickdiff  1039 non-null   int64  \n",
      " 16  timerem   1039 non-null   int64  \n",
      " 17  offscore  1039 non-null   int64  \n",
      " 18  defscore  1039 non-null   int64  \n",
      " 19  season    1039 non-null   int64  \n",
      " 20  GOOD      1039 non-null   int64  \n",
      " 21  Missed    1039 non-null   int64  \n",
      " 22  Blocked   1039 non-null   int64  \n",
      "dtypes: float64(2), int64(16), object(5)\n",
      "memory usage: 186.8+ KB\n",
      "None\n"
     ]
    }
   ],
   "source": [
    "#read in file and print info \n",
    "\n",
    "nfl_fga = pd.read_csv(\"data/nfl2008_fga.csv\")\n",
    "print(nfl_fga.info())"
   ]
  },
  {
   "cell_type": "code",
   "execution_count": 4,
   "metadata": {},
   "outputs": [],
   "source": [
    "#Group data set based on kicker name\n",
    "x1 = nfl_fga.groupby(['name'])"
   ]
  },
  {
   "cell_type": "code",
   "execution_count": 5,
   "metadata": {},
   "outputs": [
    {
     "data": {
      "text/html": [
       "<div>\n",
       "<style scoped>\n",
       "    .dataframe tbody tr th:only-of-type {\n",
       "        vertical-align: middle;\n",
       "    }\n",
       "\n",
       "    .dataframe tbody tr th {\n",
       "        vertical-align: top;\n",
       "    }\n",
       "\n",
       "    .dataframe thead th {\n",
       "        text-align: right;\n",
       "    }\n",
       "</style>\n",
       "<table border=\"1\" class=\"dataframe\">\n",
       "  <thead>\n",
       "    <tr style=\"text-align: right;\">\n",
       "      <th></th>\n",
       "      <th>made</th>\n",
       "      <th>total_attempted</th>\n",
       "      <th>percent_made</th>\n",
       "    </tr>\n",
       "    <tr>\n",
       "      <th>name</th>\n",
       "      <th></th>\n",
       "      <th></th>\n",
       "      <th></th>\n",
       "    </tr>\n",
       "  </thead>\n",
       "  <tbody>\n",
       "    <tr>\n",
       "      <th>A.Vinatieri</th>\n",
       "      <td>22</td>\n",
       "      <td>26</td>\n",
       "      <td>0.846154</td>\n",
       "    </tr>\n",
       "    <tr>\n",
       "      <th>C.Barth</th>\n",
       "      <td>10</td>\n",
       "      <td>12</td>\n",
       "      <td>0.833333</td>\n",
       "    </tr>\n",
       "    <tr>\n",
       "      <th>D.Akers</th>\n",
       "      <td>45</td>\n",
       "      <td>50</td>\n",
       "      <td>0.900000</td>\n",
       "    </tr>\n",
       "    <tr>\n",
       "      <th>D.Carpenter</th>\n",
       "      <td>23</td>\n",
       "      <td>26</td>\n",
       "      <td>0.884615</td>\n",
       "    </tr>\n",
       "    <tr>\n",
       "      <th>D.Rayner</th>\n",
       "      <td>1</td>\n",
       "      <td>1</td>\n",
       "      <td>1.000000</td>\n",
       "    </tr>\n",
       "  </tbody>\n",
       "</table>\n",
       "</div>"
      ],
      "text/plain": [
       "             made  total_attempted  percent_made\n",
       "name                                            \n",
       "A.Vinatieri    22               26      0.846154\n",
       "C.Barth        10               12      0.833333\n",
       "D.Akers        45               50      0.900000\n",
       "D.Carpenter    23               26      0.884615\n",
       "D.Rayner        1                1      1.000000"
      ]
     },
     "execution_count": 5,
     "metadata": {},
     "output_type": "execute_result"
    }
   ],
   "source": [
    "#Get total made, total attempted, and assign to temp dataframe grouped by kicker name\n",
    "\n",
    "temp_df = pd.DataFrame()\n",
    "temp_df = temp_df.assign(made = x1.GOOD.sum(), \n",
    "                         total_attempted = x1['GOOD'].count()).assign(percent_made = lambda x: (x['made'] / x['total_attempted']))\n",
    "temp_df.head()"
   ]
  },
  {
   "cell_type": "code",
   "execution_count": 6,
   "metadata": {},
   "outputs": [
    {
     "data": {
      "text/html": [
       "<div>\n",
       "<style scoped>\n",
       "    .dataframe tbody tr th:only-of-type {\n",
       "        vertical-align: middle;\n",
       "    }\n",
       "\n",
       "    .dataframe tbody tr th {\n",
       "        vertical-align: top;\n",
       "    }\n",
       "\n",
       "    .dataframe thead th {\n",
       "        text-align: right;\n",
       "    }\n",
       "</style>\n",
       "<table border=\"1\" class=\"dataframe\">\n",
       "  <thead>\n",
       "    <tr style=\"text-align: right;\">\n",
       "      <th></th>\n",
       "      <th>made</th>\n",
       "      <th>total_attempted</th>\n",
       "      <th>percent_made</th>\n",
       "    </tr>\n",
       "    <tr>\n",
       "      <th>name</th>\n",
       "      <th></th>\n",
       "      <th></th>\n",
       "      <th></th>\n",
       "    </tr>\n",
       "  </thead>\n",
       "  <tbody>\n",
       "    <tr>\n",
       "      <th>L.Tynes</th>\n",
       "      <td>1</td>\n",
       "      <td>1</td>\n",
       "      <td>1.000000</td>\n",
       "    </tr>\n",
       "    <tr>\n",
       "      <th>J.Hanson</th>\n",
       "      <td>22</td>\n",
       "      <td>22</td>\n",
       "      <td>1.000000</td>\n",
       "    </tr>\n",
       "    <tr>\n",
       "      <th>D.Rayner</th>\n",
       "      <td>1</td>\n",
       "      <td>1</td>\n",
       "      <td>1.000000</td>\n",
       "    </tr>\n",
       "    <tr>\n",
       "      <th>G.Hartley</th>\n",
       "      <td>13</td>\n",
       "      <td>13</td>\n",
       "      <td>1.000000</td>\n",
       "    </tr>\n",
       "    <tr>\n",
       "      <th>R.Gould</th>\n",
       "      <td>28</td>\n",
       "      <td>29</td>\n",
       "      <td>0.965517</td>\n",
       "    </tr>\n",
       "  </tbody>\n",
       "</table>\n",
       "</div>"
      ],
      "text/plain": [
       "           made  total_attempted  percent_made\n",
       "name                                          \n",
       "L.Tynes       1                1      1.000000\n",
       "J.Hanson     22               22      1.000000\n",
       "D.Rayner      1                1      1.000000\n",
       "G.Hartley    13               13      1.000000\n",
       "R.Gould      28               29      0.965517"
      ]
     },
     "execution_count": 6,
     "metadata": {},
     "output_type": "execute_result"
    }
   ],
   "source": [
    "#Sort table in descending order by percent made\n",
    "temp_df = temp_df.sort_values(by=\"percent_made\", ascending=False)\n",
    "temp_df.head()"
   ]
  },
  {
   "cell_type": "code",
   "execution_count": 7,
   "metadata": {},
   "outputs": [
    {
     "name": "stdout",
     "output_type": "stream",
     "text": [
      "           made  total_attempted  percent_made\n",
      "name                                          \n",
      "L.Tynes       1                1      1.000000\n",
      "J.Hanson     22               22      1.000000\n",
      "D.Rayner      1                1      1.000000\n",
      "G.Hartley    13               13      1.000000\n",
      "R.Gould      28               29      0.965517\n"
     ]
    }
   ],
   "source": [
    "#Pipe together in function\n",
    "def kicker_rates(df):\n",
    "    x1 = df.groupby(['name'])\n",
    "    temp_df = pd.DataFrame()\n",
    "    temp_df = temp_df.assign(made = x1.GOOD.sum(), \n",
    "                         total_attempted = x1['GOOD'].count()).assign(percent_made = lambda x: (x['made'] / x['total_attempted'])).sort_values(by=\"percent_made\", ascending=False)\n",
    "    return temp_df \n",
    "   \n",
    "print(kicker_rates(nfl_fga).head())\n",
    "    "
   ]
  },
  {
   "cell_type": "markdown",
   "metadata": {},
   "source": [
    "## 4 Kickers led the NFL in field goal conversion rate in 2008."
   ]
  },
  {
   "cell_type": "markdown",
   "metadata": {},
   "source": [
    "### Question 2: Are there differences in the percentage of field goal attempts made based on quarter?"
   ]
  },
  {
   "cell_type": "markdown",
   "metadata": {},
   "source": [
    "### Psuedocode: \n",
    "- Group data set by quarter\n",
    "- Calculate total field goals made and attempted\n",
    "- Calculate conversion rate\n",
    "- Assign these variables to new dataframe \n",
    "- Sort and return"
   ]
  },
  {
   "cell_type": "code",
   "execution_count": 8,
   "metadata": {},
   "outputs": [],
   "source": [
    "#Group dataset by quarter\n",
    "\n",
    "x2 = nfl_fga.groupby(['qtr'])\n"
   ]
  },
  {
   "cell_type": "code",
   "execution_count": 9,
   "metadata": {},
   "outputs": [
    {
     "data": {
      "text/html": [
       "<div>\n",
       "<style scoped>\n",
       "    .dataframe tbody tr th:only-of-type {\n",
       "        vertical-align: middle;\n",
       "    }\n",
       "\n",
       "    .dataframe tbody tr th {\n",
       "        vertical-align: top;\n",
       "    }\n",
       "\n",
       "    .dataframe thead th {\n",
       "        text-align: right;\n",
       "    }\n",
       "</style>\n",
       "<table border=\"1\" class=\"dataframe\">\n",
       "  <thead>\n",
       "    <tr style=\"text-align: right;\">\n",
       "      <th></th>\n",
       "      <th>fgm</th>\n",
       "      <th>fga</th>\n",
       "      <th>conversion_rate</th>\n",
       "    </tr>\n",
       "    <tr>\n",
       "      <th>qtr</th>\n",
       "      <th></th>\n",
       "      <th></th>\n",
       "      <th></th>\n",
       "    </tr>\n",
       "  </thead>\n",
       "  <tbody>\n",
       "    <tr>\n",
       "      <th>1</th>\n",
       "      <td>192</td>\n",
       "      <td>214</td>\n",
       "      <td>0.897196</td>\n",
       "    </tr>\n",
       "    <tr>\n",
       "      <th>2</th>\n",
       "      <td>316</td>\n",
       "      <td>375</td>\n",
       "      <td>0.842667</td>\n",
       "    </tr>\n",
       "    <tr>\n",
       "      <th>3</th>\n",
       "      <td>154</td>\n",
       "      <td>182</td>\n",
       "      <td>0.846154</td>\n",
       "    </tr>\n",
       "    <tr>\n",
       "      <th>4</th>\n",
       "      <td>226</td>\n",
       "      <td>255</td>\n",
       "      <td>0.886275</td>\n",
       "    </tr>\n",
       "    <tr>\n",
       "      <th>5</th>\n",
       "      <td>12</td>\n",
       "      <td>13</td>\n",
       "      <td>0.923077</td>\n",
       "    </tr>\n",
       "  </tbody>\n",
       "</table>\n",
       "</div>"
      ],
      "text/plain": [
       "     fgm  fga  conversion_rate\n",
       "qtr                           \n",
       "1    192  214         0.897196\n",
       "2    316  375         0.842667\n",
       "3    154  182         0.846154\n",
       "4    226  255         0.886275\n",
       "5     12   13         0.923077"
      ]
     },
     "execution_count": 9,
     "metadata": {},
     "output_type": "execute_result"
    }
   ],
   "source": [
    "#Calculate new variables and assign them to new data frame\n",
    "quarter_fga = pd.DataFrame()\n",
    "quarter_fga = quarter_fga.assign(fgm = x2.GOOD.sum(),\n",
    "                   fga = x2['GOOD'].count()).assign(conversion_rate=lambda x:(x['fgm']/x['fga'])) \n",
    "quarter_fga"
   ]
  },
  {
   "cell_type": "code",
   "execution_count": 10,
   "metadata": {},
   "outputs": [
    {
     "data": {
      "text/html": [
       "<div>\n",
       "<style scoped>\n",
       "    .dataframe tbody tr th:only-of-type {\n",
       "        vertical-align: middle;\n",
       "    }\n",
       "\n",
       "    .dataframe tbody tr th {\n",
       "        vertical-align: top;\n",
       "    }\n",
       "\n",
       "    .dataframe thead th {\n",
       "        text-align: right;\n",
       "    }\n",
       "</style>\n",
       "<table border=\"1\" class=\"dataframe\">\n",
       "  <thead>\n",
       "    <tr style=\"text-align: right;\">\n",
       "      <th></th>\n",
       "      <th>fgm</th>\n",
       "      <th>fga</th>\n",
       "      <th>conversion_rate</th>\n",
       "    </tr>\n",
       "    <tr>\n",
       "      <th>qtr</th>\n",
       "      <th></th>\n",
       "      <th></th>\n",
       "      <th></th>\n",
       "    </tr>\n",
       "  </thead>\n",
       "  <tbody>\n",
       "    <tr>\n",
       "      <th>5</th>\n",
       "      <td>12</td>\n",
       "      <td>13</td>\n",
       "      <td>0.923077</td>\n",
       "    </tr>\n",
       "    <tr>\n",
       "      <th>1</th>\n",
       "      <td>192</td>\n",
       "      <td>214</td>\n",
       "      <td>0.897196</td>\n",
       "    </tr>\n",
       "    <tr>\n",
       "      <th>4</th>\n",
       "      <td>226</td>\n",
       "      <td>255</td>\n",
       "      <td>0.886275</td>\n",
       "    </tr>\n",
       "    <tr>\n",
       "      <th>3</th>\n",
       "      <td>154</td>\n",
       "      <td>182</td>\n",
       "      <td>0.846154</td>\n",
       "    </tr>\n",
       "    <tr>\n",
       "      <th>2</th>\n",
       "      <td>316</td>\n",
       "      <td>375</td>\n",
       "      <td>0.842667</td>\n",
       "    </tr>\n",
       "  </tbody>\n",
       "</table>\n",
       "</div>"
      ],
      "text/plain": [
       "     fgm  fga  conversion_rate\n",
       "qtr                           \n",
       "5     12   13         0.923077\n",
       "1    192  214         0.897196\n",
       "4    226  255         0.886275\n",
       "3    154  182         0.846154\n",
       "2    316  375         0.842667"
      ]
     },
     "execution_count": 10,
     "metadata": {},
     "output_type": "execute_result"
    }
   ],
   "source": [
    "#Sort\n",
    "quarter_fga = quarter_fga.sort_values(by='conversion_rate', ascending=False)\n",
    "quarter_fga"
   ]
  },
  {
   "cell_type": "markdown",
   "metadata": {},
   "source": [
    "There are differences in the conversion rates between quarters, with the highest being in overtime periods during the 2008 NFL season"
   ]
  },
  {
   "cell_type": "code",
   "execution_count": 11,
   "metadata": {},
   "outputs": [
    {
     "data": {
      "text/html": [
       "<div>\n",
       "<style scoped>\n",
       "    .dataframe tbody tr th:only-of-type {\n",
       "        vertical-align: middle;\n",
       "    }\n",
       "\n",
       "    .dataframe tbody tr th {\n",
       "        vertical-align: top;\n",
       "    }\n",
       "\n",
       "    .dataframe thead th {\n",
       "        text-align: right;\n",
       "    }\n",
       "</style>\n",
       "<table border=\"1\" class=\"dataframe\">\n",
       "  <thead>\n",
       "    <tr style=\"text-align: right;\">\n",
       "      <th></th>\n",
       "      <th>fgm</th>\n",
       "      <th>fga</th>\n",
       "      <th>conversion_rate</th>\n",
       "    </tr>\n",
       "    <tr>\n",
       "      <th>qtr</th>\n",
       "      <th></th>\n",
       "      <th></th>\n",
       "      <th></th>\n",
       "    </tr>\n",
       "  </thead>\n",
       "  <tbody>\n",
       "    <tr>\n",
       "      <th>5</th>\n",
       "      <td>12</td>\n",
       "      <td>13</td>\n",
       "      <td>0.923077</td>\n",
       "    </tr>\n",
       "    <tr>\n",
       "      <th>1</th>\n",
       "      <td>192</td>\n",
       "      <td>214</td>\n",
       "      <td>0.897196</td>\n",
       "    </tr>\n",
       "    <tr>\n",
       "      <th>4</th>\n",
       "      <td>226</td>\n",
       "      <td>255</td>\n",
       "      <td>0.886275</td>\n",
       "    </tr>\n",
       "    <tr>\n",
       "      <th>3</th>\n",
       "      <td>154</td>\n",
       "      <td>182</td>\n",
       "      <td>0.846154</td>\n",
       "    </tr>\n",
       "    <tr>\n",
       "      <th>2</th>\n",
       "      <td>316</td>\n",
       "      <td>375</td>\n",
       "      <td>0.842667</td>\n",
       "    </tr>\n",
       "  </tbody>\n",
       "</table>\n",
       "</div>"
      ],
      "text/plain": [
       "     fgm  fga  conversion_rate\n",
       "qtr                           \n",
       "5     12   13         0.923077\n",
       "1    192  214         0.897196\n",
       "4    226  255         0.886275\n",
       "3    154  182         0.846154\n",
       "2    316  375         0.842667"
      ]
     },
     "execution_count": 11,
     "metadata": {},
     "output_type": "execute_result"
    }
   ],
   "source": [
    "#Pipe together \n",
    "def quarter_rates(df):\n",
    "    x2 = nfl_fga.groupby(['qtr'])\n",
    "    quarter_fga = pd.DataFrame()\n",
    "    quarter_fga = quarter_fga.assign(fgm = x2.GOOD.sum(),\n",
    "                                     fga = x2['GOOD'].count()).assign(conversion_rate=lambda x:(x['fgm']/x['fga'])) \n",
    "    quarter_fga = quarter_fga.sort_values(by='conversion_rate', ascending=False)\n",
    "    return quarter_fga\n",
    "\n",
    "quarter_rates(nfl_fga)"
   ]
  }
 ],
 "metadata": {
  "kernelspec": {
   "display_name": "Python 3",
   "language": "python",
   "name": "python3"
  },
  "language_info": {
   "codemirror_mode": {
    "name": "ipython",
    "version": 3
   },
   "file_extension": ".py",
   "mimetype": "text/x-python",
   "name": "python",
   "nbconvert_exporter": "python",
   "pygments_lexer": "ipython3",
   "version": "3.10.8"
  },
  "orig_nbformat": 4
 },
 "nbformat": 4,
 "nbformat_minor": 2
}
